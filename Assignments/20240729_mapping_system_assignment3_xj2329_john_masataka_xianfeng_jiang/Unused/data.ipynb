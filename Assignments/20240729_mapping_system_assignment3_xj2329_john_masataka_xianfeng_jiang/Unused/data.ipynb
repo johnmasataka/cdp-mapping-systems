{
 "cells": [
  {
   "cell_type": "code",
   "execution_count": 9,
   "metadata": {},
   "outputs": [
    {
     "ename": "KeyError",
     "evalue": "'Longitude'",
     "output_type": "error",
     "traceback": [
      "\u001b[1;31m---------------------------------------------------------------------------\u001b[0m",
      "\u001b[1;31mKeyError\u001b[0m                                  Traceback (most recent call last)",
      "Cell \u001b[1;32mIn[9], line 16\u001b[0m\n\u001b[0;32m      8\u001b[0m japanese_restaurants \u001b[38;5;241m=\u001b[39m requests\u001b[38;5;241m.\u001b[39mget(\n\u001b[0;32m      9\u001b[0m     \u001b[38;5;124m\"\u001b[39m\u001b[38;5;124mhttps://data.cityofnewyork.us/resource/43nn-pn8j.json?cuisine_description=Japanese&$limit=2000\u001b[39m\u001b[38;5;124m\"\u001b[39m\n\u001b[0;32m     10\u001b[0m )\u001b[38;5;241m.\u001b[39mjson()\n\u001b[0;32m     12\u001b[0m \u001b[38;5;66;03m# 转换为 GeoDataFrame\u001b[39;00m\n\u001b[0;32m     13\u001b[0m japanese_restaurants_gdf \u001b[38;5;241m=\u001b[39m gpd\u001b[38;5;241m.\u001b[39mGeoDataFrame(\n\u001b[0;32m     14\u001b[0m     japanese_restaurants,\n\u001b[0;32m     15\u001b[0m     geometry\u001b[38;5;241m=\u001b[39mgpd\u001b[38;5;241m.\u001b[39mpoints_from_xy(\n\u001b[1;32m---> 16\u001b[0m         [\u001b[38;5;28mfloat\u001b[39m(\u001b[43mx\u001b[49m\u001b[43m[\u001b[49m\u001b[38;5;124;43m\"\u001b[39;49m\u001b[38;5;124;43mLongitude\u001b[39;49m\u001b[38;5;124;43m\"\u001b[39;49m\u001b[43m]\u001b[49m) \u001b[38;5;28;01mfor\u001b[39;00m x \u001b[38;5;129;01min\u001b[39;00m japanese_restaurants],\n\u001b[0;32m     17\u001b[0m         [\u001b[38;5;28mfloat\u001b[39m(x[\u001b[38;5;124m\"\u001b[39m\u001b[38;5;124mLatitude\u001b[39m\u001b[38;5;124m\"\u001b[39m]) \u001b[38;5;28;01mfor\u001b[39;00m x \u001b[38;5;129;01min\u001b[39;00m japanese_restaurants],\n\u001b[0;32m     18\u001b[0m     ),\n\u001b[0;32m     19\u001b[0m )\n\u001b[0;32m     21\u001b[0m japanese_restaurants_gdf\u001b[38;5;241m.\u001b[39mfillna(\u001b[38;5;124m\"\u001b[39m\u001b[38;5;124mna\u001b[39m\u001b[38;5;124m\"\u001b[39m, inplace\u001b[38;5;241m=\u001b[39m\u001b[38;5;28;01mTrue\u001b[39;00m)\n\u001b[0;32m     22\u001b[0m japanese_restaurants_gdf\u001b[38;5;241m.\u001b[39mdrop_duplicates(subset\u001b[38;5;241m=\u001b[39m\u001b[38;5;124m\"\u001b[39m\u001b[38;5;124mcamis\u001b[39m\u001b[38;5;124m\"\u001b[39m, inplace\u001b[38;5;241m=\u001b[39m\u001b[38;5;28;01mTrue\u001b[39;00m)\n",
      "\u001b[1;31mKeyError\u001b[0m: 'Longitude'"
     ]
    }
   ],
   "source": [
    "import requests\n",
    "import geopandas as gpd\n",
    "import osmnx as ox\n",
    "import matplotlib.pyplot as plt\n",
    "from shapely.geometry import Point\n",
    "\n",
    "# Get data on Japanese restaurants\n",
    "japanese_restaurants = requests.get(\n",
    "    \"https://data.cityofnewyork.us/resource/43nn-pn8j.json?cuisine_description=Japanese&$limit=2000\"\n",
    ").json()\n",
    "\n",
    "# Convert to GeoDataFrame\n",
    "japanese_restaurants_gdf = gpd.GeoDataFrame(\n",
    "    japanese_restaurants,\n",
    "    geometry=gpd.points_from_xy(\n",
    "        [float(x[\"Longitude\"]) for x in japanese_restaurants],\n",
    "        [float(x[\"Latitude\"]) for x in japanese_restaurants],\n",
    "    ),\n",
    ")\n",
    "\n",
    "japanese_restaurants_gdf.fillna(\"na\", inplace=True)\n",
    "japanese_restaurants_gdf.drop_duplicates(subset=\"camis\", inplace=True)\n"
   ]
  },
  {
   "cell_type": "code",
   "execution_count": 10,
   "metadata": {},
   "outputs": [
    {
     "ename": "NameError",
     "evalue": "name 'japanese_restaurants_gdf' is not defined",
     "output_type": "error",
     "traceback": [
      "\u001b[1;31m---------------------------------------------------------------------------\u001b[0m",
      "\u001b[1;31mNameError\u001b[0m                                 Traceback (most recent call last)",
      "Cell \u001b[1;32mIn[10], line 2\u001b[0m\n\u001b[0;32m      1\u001b[0m \u001b[38;5;66;03m# 获取边界框\u001b[39;00m\n\u001b[1;32m----> 2\u001b[0m bbox \u001b[38;5;241m=\u001b[39m \u001b[43mjapanese_restaurants_gdf\u001b[49m\u001b[38;5;241m.\u001b[39mtotal_bounds\n\u001b[0;32m      4\u001b[0m \u001b[38;5;66;03m# 创建城市网络\u001b[39;00m\n\u001b[0;32m      5\u001b[0m city_network \u001b[38;5;241m=\u001b[39m ox\u001b[38;5;241m.\u001b[39mgraph_from_bbox(\n\u001b[0;32m      6\u001b[0m     bbox[\u001b[38;5;241m3\u001b[39m], bbox[\u001b[38;5;241m1\u001b[39m], bbox[\u001b[38;5;241m2\u001b[39m], bbox[\u001b[38;5;241m0\u001b[39m], network_type\u001b[38;5;241m=\u001b[39m\u001b[38;5;124m\"\u001b[39m\u001b[38;5;124mwalk\u001b[39m\u001b[38;5;124m\"\u001b[39m\n\u001b[0;32m      7\u001b[0m )\n",
      "\u001b[1;31mNameError\u001b[0m: name 'japanese_restaurants_gdf' is not defined"
     ]
    }
   ],
   "source": [
    "# Get the bounding box\n",
    "bbox = japanese_restaurants_gdf.total_bounds\n",
    "\n",
    "# Create a network of cities\n",
    "city_network = ox.graph_from_bbox(\n",
    "    bbox[3], bbox[1], bbox[2], bbox[0], network_type=\"walk\"\n",
    ")\n",
    "\n",
    "# Convert network to GeoDataFrame\n",
    "network_nodes, network_edges = ox.graph_to_gdfs(city_network)\n"
   ]
  },
  {
   "cell_type": "code",
   "execution_count": 11,
   "metadata": {},
   "outputs": [
    {
     "ename": "NameError",
     "evalue": "name 'city_network' is not defined",
     "output_type": "error",
     "traceback": [
      "\u001b[1;31m---------------------------------------------------------------------------\u001b[0m",
      "\u001b[1;31mNameError\u001b[0m                                 Traceback (most recent call last)",
      "Cell \u001b[1;32mIn[11], line 5\u001b[0m\n\u001b[0;32m      2\u001b[0m start_point \u001b[38;5;241m=\u001b[39m Point(\u001b[38;5;241m-\u001b[39m\u001b[38;5;241m73.9614755\u001b[39m, \u001b[38;5;241m40.8081037\u001b[39m)  \u001b[38;5;66;03m# 替换为你的起点坐标\u001b[39;00m\n\u001b[0;32m      4\u001b[0m \u001b[38;5;66;03m# 获取起点的网络节点\u001b[39;00m\n\u001b[1;32m----> 5\u001b[0m start_node \u001b[38;5;241m=\u001b[39m ox\u001b[38;5;241m.\u001b[39mdistance\u001b[38;5;241m.\u001b[39mnearest_nodes(\u001b[43mcity_network\u001b[49m, start_point\u001b[38;5;241m.\u001b[39mx, start_point\u001b[38;5;241m.\u001b[39my)\n\u001b[0;32m      7\u001b[0m \u001b[38;5;66;03m# 随机选择一个日本餐馆作为目的地\u001b[39;00m\n\u001b[0;32m      8\u001b[0m destination \u001b[38;5;241m=\u001b[39m japanese_restaurants_gdf\u001b[38;5;241m.\u001b[39msample(\u001b[38;5;241m1\u001b[39m)\n",
      "\u001b[1;31mNameError\u001b[0m: name 'city_network' is not defined"
     ]
    }
   ],
   "source": [
    "# Define the starting point\n",
    "start_point = Point(-73.9614755, 40.8081037)  \n",
    "\n",
    "# Get the network node of the starting point\n",
    "start_node = ox.distance.nearest_nodes(city_network, start_point.x, start_point.y)\n",
    "\n",
    "# Choose a Japanese restaurant at random as a destination\n",
    "destination = japanese_restaurants_gdf.sample(1)\n",
    "destination_node = ox.distance.nearest_nodes(city_network, destination.geometry.x.iloc[0], destination.geometry.y.iloc[0])\n",
    "\n",
    "# Calculate the shortest path\n",
    "route = ox.shortest_path(city_network, start_node, destination_node, weight=\"length\")\n",
    "\n",
    "# Mapping the shortest path\n",
    "fig, ax = ox.plot_graph_route(city_network, route, node_size=0)\n"
   ]
  },
  {
   "cell_type": "code",
   "execution_count": null,
   "metadata": {},
   "outputs": [],
   "source": [
    "def distance_from_point(row, origin):\n",
    "    dest = ox.distance.nearest_nodes(city_network, row.geometry.x, row.geometry.y)\n",
    "    route = ox.shortest_path(city_network, origin, dest, weight=\"length\")\n",
    "    edge_lengths = ox.routing.route_to_gdf(city_network, route)[\"length\"]\n",
    "    route_geom = ox.routing.route_to_gdf(city_network, route)\n",
    "    route_geom = route_geom.geometry.unary_union\n",
    "    return {\"distance\": sum(edge_lengths) / 1609.34, \"route_geom\": route_geom}\n",
    "\n",
    "# Calculate the distance\n",
    "japanese_restaurants_gdf[\"distance_from_start\"] = japanese_restaurants_gdf.apply(\n",
    "    distance_from_point, origin=start_node, axis=1\n",
    ")\n",
    "\n",
    "# Convert results to GeoDataFrame\n",
    "japanese_restaurants_routes = gpd.GeoDataFrame(japanese_restaurants_gdf, geometry=\"route_geom\", crs=\"EPSG:4326\")\n",
    "\n",
    "# Mapping\n",
    "ax = gpd.GeoSeries(start_point).plot(color=\"black\")\n",
    "network_edges.plot(ax=ax, color=\"black\", linewidth=0.1)\n",
    "japanese_restaurants_routes.plot(column=\"distance\", cmap=\"magma\", ax=ax, linewidth=3)\n",
    "japanese_restaurants_gdf.plot(column=\"distance\", cmap=\"magma\", legend=True, ax=ax).set_axis_off()\n"
   ]
  },
  {
   "cell_type": "code",
   "execution_count": null,
   "metadata": {},
   "outputs": [],
   "source": []
  }
 ],
 "metadata": {
  "kernelspec": {
   "display_name": "Python 3",
   "language": "python",
   "name": "python3"
  },
  "language_info": {
   "codemirror_mode": {
    "name": "ipython",
    "version": 3
   },
   "file_extension": ".py",
   "mimetype": "text/x-python",
   "name": "python",
   "nbconvert_exporter": "python",
   "pygments_lexer": "ipython3",
   "version": "3.12.4"
  }
 },
 "nbformat": 4,
 "nbformat_minor": 2
}
